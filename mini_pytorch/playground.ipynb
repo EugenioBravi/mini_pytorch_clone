{
 "cells": [
  {
   "cell_type": "code",
   "execution_count": 1,
   "metadata": {},
   "outputs": [],
   "source": [
    "from tensor import Tensor, Dependency, add\n",
    "import numpy as np"
   ]
  },
  {
   "cell_type": "code",
   "execution_count": 2,
   "metadata": {},
   "outputs": [],
   "source": [
    "t1 = Tensor([1, 2, 3], requires_grad=True)\n",
    "t2 = t1.sum()\n",
    "t2.backward()"
   ]
  },
  {
   "cell_type": "code",
   "execution_count": 3,
   "metadata": {},
   "outputs": [
    {
     "data": {
      "text/plain": [
       "array([1])"
      ]
     },
     "execution_count": 3,
     "metadata": {},
     "output_type": "execute_result"
    }
   ],
   "source": [
    "np.ones_like([1])"
   ]
  },
  {
   "cell_type": "markdown",
   "metadata": {},
   "source": []
  },
  {
   "cell_type": "code",
   "execution_count": null,
   "metadata": {},
   "outputs": [
    {
     "data": {
      "text/plain": [
       "True"
      ]
     },
     "execution_count": 4,
     "metadata": {},
     "output_type": "execute_result"
    }
   ],
   "source": [
    "isinstance(np.array([1, 1]), np.ndarray)"
   ]
  },
  {
   "cell_type": "code",
   "execution_count": null,
   "metadata": {},
   "outputs": [],
   "source": [
    "def grad_fn(grad: np.ndarray) -> np.ndarray:\n",
    "    \"\"\"grad is necessarily a 0-tensor, so each input element contributes that much\"\"\"\n",
    "    return grad * np.ones_like([3, 3, 3])"
   ]
  },
  {
   "cell_type": "code",
   "execution_count": null,
   "metadata": {},
   "outputs": [],
   "source": []
  },
  {
   "cell_type": "code",
   "execution_count": null,
   "metadata": {},
   "outputs": [],
   "source": [
    "t1 = Tensor([3.0, 2.0, 4.0], requires_grad=True)\n",
    "t2 = Tensor([3.0, 3.0, 3.0], requires_grad=True)\n",
    "t3 = Tensor([3.0, 3.0, 3.0], requires_grad=True, depends_on=[Dependency(t1, grad_fn)])\n",
    "t4 = Tensor([3.0, 3.0, 3.0], requires_grad=True, depends_on=[Dependency(t2, grad_fn)])\n",
    "t5 = Tensor(\n",
    "    [3.0, 3.0, 3.0],\n",
    "    requires_grad=True,\n",
    "    depends_on=[Dependency(t3, grad_fn), Dependency(t4, grad_fn)],\n",
    ")\n",
    "t6 = Tensor(\n",
    "    [3.0, 3.0, 3.0],\n",
    "    requires_grad=True,\n",
    "    depends_on=[Dependency(t2, grad_fn), Dependency(t5, grad_fn)],\n",
    ")\n",
    "t7 = Tensor(\n",
    "    [3.0, 3.0, 3.0],\n",
    "    requires_grad=True,\n",
    "    depends_on=[Dependency(t6, grad_fn), Dependency(t5, grad_fn)],\n",
    ")\n",
    "t7.backward(Tensor([9, 9, 9]))\n"
   ]
  },
  {
   "cell_type": "code",
   "execution_count": 29,
   "metadata": {},
   "outputs": [
    {
     "data": {
      "text/plain": [
       "Tensor([18. 18. 18.], requires_grad=False)"
      ]
     },
     "execution_count": 29,
     "metadata": {},
     "output_type": "execute_result"
    }
   ],
   "source": [
    "t5.grad"
   ]
  },
  {
   "cell_type": "code",
   "execution_count": 13,
   "metadata": {},
   "outputs": [
    {
     "data": {
      "text/plain": [
       "np.float64(9.0)"
      ]
     },
     "execution_count": 13,
     "metadata": {},
     "output_type": "execute_result"
    }
   ],
   "source": [
    "t7.data.sum()"
   ]
  },
  {
   "cell_type": "code",
   "execution_count": 2,
   "metadata": {},
   "outputs": [
    {
     "data": {
      "text/plain": [
       "Tensor([[4 5]\n",
       " [7 8]], requires_grad=True)"
      ]
     },
     "execution_count": 2,
     "metadata": {},
     "output_type": "execute_result"
    }
   ],
   "source": [
    "t1 = Tensor(np.array([[1], [2]]), requires_grad=True)  # Shape (2,1)\n",
    "t2 = Tensor(np.array([[3, 4], [5, 6]]), requires_grad=True)  # Shape (2,2)\n",
    "\n",
    "result = add(t1, t2)\n",
    "result"
   ]
  },
  {
   "cell_type": "code",
   "execution_count": 9,
   "metadata": {},
   "outputs": [
    {
     "data": {
      "text/plain": [
       "3.0"
      ]
     },
     "execution_count": 9,
     "metadata": {},
     "output_type": "execute_result"
    }
   ],
   "source": [
    "t1 = Tensor([1, 2, 3], requires_grad=True)\n",
    "t2 = Tensor(10, requires_grad=True)  # Scalar\n",
    "t3 = add(t1, t2)\n",
    "t3.backward(Tensor([1, 1, 1]))  # Passing a gradient of [1, 1, 1]\n",
    "\n",
    "t2.grad.data.tolist()"
   ]
  },
  {
   "cell_type": "code",
   "execution_count": null,
   "metadata": {},
   "outputs": [],
   "source": [
    "def neg(t: Tensor) -> Tensor:\n",
    "    data = -t.data\n",
    "    requires_grad = t.requires_grad\n",
    "    if requires_grad:\n",
    "        depends_on = [Dependency(t, lambda x: -x)]\n",
    "    else:\n",
    "        depends_on = []\n",
    "    return Tensor(data, requires_grad, depends_on)\n",
    "\n",
    "\n",
    "def sub(t1: Tensor, t2: Tensor):\n",
    "    data = t1.data - t2.data\n",
    "    requires_grad = t1.requires_grad or t2.requires_grad\n",
    "    depends_on: list[Dependency] = []\n",
    "    if t1.requires_grad:\n",
    "\n",
    "        def grad_fn1(grad: np.ndarray) -> np.ndarray:\n",
    "            if t1.data.shape() == grad.shape():\n",
    "                return grad\n",
    "            added_dims = grad.ndim - t1.data.ndim\n",
    "            for _ in range(added_dims):\n",
    "                grad = grad.sum(axis=0)\n",
    "            for i, dim in enumerate(t1.data.shape()):\n",
    "                if dim == 1:\n",
    "                    grad = grad.sum(axis=i, keepdims=True)\n",
    "            return grad\n",
    "\n",
    "        depends_on.append(Dependency(t1, grad_fn1))\n",
    "\n",
    "    if t2.requires_grad:\n",
    "\n",
    "        def grad_fn2(grad: np.ndarray) -> np.ndarray:\n",
    "            if t2.data.shape() == grad.shape():\n",
    "                return grad\n",
    "            added_dims = grad.ndim - t2.data.ndim\n",
    "            for _ in range(added_dims):\n",
    "                grad = grad.sum(axis=0)\n",
    "            for i, dim in enumerate(t2.data.shape()):\n",
    "                if dim == 1:\n",
    "                    grad = grad.sum(axis=i, keepdims=True)\n",
    "            return grad\n",
    "\n",
    "        depends_on.append(Dependency(t2, grad_fn2))\n",
    "    return Tensor(data, requires_grad, depends_on)"
   ]
  }
 ],
 "metadata": {
  "kernelspec": {
   "display_name": ".venv",
   "language": "python",
   "name": "python3"
  },
  "language_info": {
   "codemirror_mode": {
    "name": "ipython",
    "version": 3
   },
   "file_extension": ".py",
   "mimetype": "text/x-python",
   "name": "python",
   "nbconvert_exporter": "python",
   "pygments_lexer": "ipython3",
   "version": "3.11.4"
  }
 },
 "nbformat": 4,
 "nbformat_minor": 2
}
